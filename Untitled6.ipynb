{
  "nbformat": 4,
  "nbformat_minor": 0,
  "metadata": {
    "colab": {
      "provenance": [],
      "mount_file_id": "1NZ7M4gShSGAD4C3zWC2920hdJPEPiINS",
      "authorship_tag": "ABX9TyNFuM7JTdgUtcX2YGqMqWyN",
      "include_colab_link": true
    },
    "kernelspec": {
      "name": "python3",
      "display_name": "Python 3"
    },
    "language_info": {
      "name": "python"
    }
  },
  "cells": [
    {
      "cell_type": "markdown",
      "metadata": {
        "id": "view-in-github",
        "colab_type": "text"
      },
      "source": [
        "<a href=\"https://colab.research.google.com/github/UmaAgrawal501/converting-videos-into-GIFs/blob/main/Untitled6.ipynb\" target=\"_parent\"><img src=\"https://colab.research.google.com/assets/colab-badge.svg\" alt=\"Open In Colab\"/></a>"
      ]
    },
    {
      "cell_type": "code",
      "execution_count": 1,
      "metadata": {
        "colab": {
          "base_uri": "https://localhost:8080/"
        },
        "id": "6oyX5fdOemZP",
        "outputId": "d9e09734-1b11-4041-8f9c-d784cadd59bf"
      },
      "outputs": [
        {
          "output_type": "stream",
          "name": "stdout",
          "text": [
            "Requirement already satisfied: moviepy in /usr/local/lib/python3.10/dist-packages (1.0.3)\n",
            "Collecting ffmpeg-python\n",
            "  Downloading ffmpeg_python-0.2.0-py3-none-any.whl.metadata (1.7 kB)\n",
            "Requirement already satisfied: pillow in /usr/local/lib/python3.10/dist-packages (11.0.0)\n",
            "Requirement already satisfied: decorator<5.0,>=4.0.2 in /usr/local/lib/python3.10/dist-packages (from moviepy) (4.4.2)\n",
            "Requirement already satisfied: tqdm<5.0,>=4.11.2 in /usr/local/lib/python3.10/dist-packages (from moviepy) (4.66.6)\n",
            "Requirement already satisfied: requests<3.0,>=2.8.1 in /usr/local/lib/python3.10/dist-packages (from moviepy) (2.32.3)\n",
            "Requirement already satisfied: proglog<=1.0.0 in /usr/local/lib/python3.10/dist-packages (from moviepy) (0.1.10)\n",
            "Requirement already satisfied: numpy>=1.17.3 in /usr/local/lib/python3.10/dist-packages (from moviepy) (1.26.4)\n",
            "Requirement already satisfied: imageio<3.0,>=2.5 in /usr/local/lib/python3.10/dist-packages (from moviepy) (2.36.0)\n",
            "Requirement already satisfied: imageio-ffmpeg>=0.2.0 in /usr/local/lib/python3.10/dist-packages (from moviepy) (0.5.1)\n",
            "Requirement already satisfied: future in /usr/local/lib/python3.10/dist-packages (from ffmpeg-python) (1.0.0)\n",
            "Requirement already satisfied: setuptools in /usr/local/lib/python3.10/dist-packages (from imageio-ffmpeg>=0.2.0->moviepy) (75.1.0)\n",
            "Requirement already satisfied: charset-normalizer<4,>=2 in /usr/local/lib/python3.10/dist-packages (from requests<3.0,>=2.8.1->moviepy) (3.4.0)\n",
            "Requirement already satisfied: idna<4,>=2.5 in /usr/local/lib/python3.10/dist-packages (from requests<3.0,>=2.8.1->moviepy) (3.10)\n",
            "Requirement already satisfied: urllib3<3,>=1.21.1 in /usr/local/lib/python3.10/dist-packages (from requests<3.0,>=2.8.1->moviepy) (2.2.3)\n",
            "Requirement already satisfied: certifi>=2017.4.17 in /usr/local/lib/python3.10/dist-packages (from requests<3.0,>=2.8.1->moviepy) (2024.8.30)\n",
            "Downloading ffmpeg_python-0.2.0-py3-none-any.whl (25 kB)\n",
            "Installing collected packages: ffmpeg-python\n",
            "Successfully installed ffmpeg-python-0.2.0\n"
          ]
        }
      ],
      "source": [
        "pip install moviepy ffmpeg-python pillow\n"
      ]
    },
    {
      "cell_type": "code",
      "source": [
        "from moviepy.video.io.VideoFileClip import VideoFileClip\n",
        "import os\n",
        "\n",
        "def video_to_gifs(video_path, output_folder, segment_duration=10):\n",
        "\n",
        "    os.makedirs(output_folder, exist_ok=True)\n",
        "# Load the video file\n",
        "    video = VideoFileClip('/content/drive/MyDrive/Video of a Man Serving the Turkey for his Family on Thanksgiving.mp4')\n",
        "    video_duration = video.duration  # Total duration of the video in seconds\n",
        "    num_segments = int(video_duration // segment_duration) + 1\n",
        "\n",
        "    print(f\"Video duration: {video_duration} seconds\")\n",
        "    print(f\"Creating {num_segments} GIFs of {segment_duration} seconds each...\")\n",
        "# Generate GIFs for each segment\n",
        "    for i in range(num_segments):\n",
        "        start_time = i * segment_duration\n",
        "        end_time = min((i + 1) * segment_duration, video_duration)\n",
        "\n",
        "        # Extract the segment\n",
        "        gif_clip = video.subclip(start_time, end_time)\n",
        "        gif_path = os.path.join(output_folder, f\"segment_{i + 1}.gif\")\n",
        "\n",
        "        # Save the segment as a GIF\n",
        "        gif_clip.write_gif(gif_path, fps=10)\n",
        "        print(f\"GIF {i + 1} saved: {gif_path}\")\n",
        "\n",
        "    print(\"GIF generation completed!\")\n",
        "    video.close()\n",
        ""
      ],
      "metadata": {
        "id": "11IjenxgevQq"
      },
      "execution_count": 8,
      "outputs": []
    },
    {
      "cell_type": "code",
      "source": [
        "\n",
        "video_path = \"example_video.mp4\"\n",
        "output_folder = \"output_gifs\"\n",
        "segment_duration = 10  # Set the duration of each GIF segment in seconds\n",
        "\n",
        "video_to_gifs(video_path, output_folder, segment_duration)"
      ],
      "metadata": {
        "colab": {
          "base_uri": "https://localhost:8080/"
        },
        "id": "7F7nBgSljF2n",
        "outputId": "66e734f6-83f7-4c31-9e19-b2f10bb701e5"
      },
      "execution_count": 9,
      "outputs": [
        {
          "output_type": "stream",
          "name": "stdout",
          "text": [
            "Video duration: 25.84 seconds\n",
            "Creating 3 GIFs of 10 seconds each...\n",
            "MoviePy - Building file output_gifs/segment_1.gif with imageio.\n"
          ]
        },
        {
          "output_type": "stream",
          "name": "stderr",
          "text": []
        },
        {
          "output_type": "stream",
          "name": "stdout",
          "text": [
            "GIF 1 saved: output_gifs/segment_1.gif\n",
            "MoviePy - Building file output_gifs/segment_2.gif with imageio.\n"
          ]
        },
        {
          "output_type": "stream",
          "name": "stderr",
          "text": []
        },
        {
          "output_type": "stream",
          "name": "stdout",
          "text": [
            "GIF 2 saved: output_gifs/segment_2.gif\n",
            "MoviePy - Building file output_gifs/segment_3.gif with imageio.\n"
          ]
        },
        {
          "output_type": "stream",
          "name": "stderr",
          "text": []
        },
        {
          "output_type": "stream",
          "name": "stdout",
          "text": [
            "GIF 3 saved: output_gifs/segment_3.gif\n",
            "GIF generation completed!\n"
          ]
        }
      ]
    }
  ]
}